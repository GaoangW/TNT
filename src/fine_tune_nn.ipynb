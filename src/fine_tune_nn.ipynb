{
 "cells": [
  {
   "cell_type": "code",
   "execution_count": 1,
   "metadata": {},
   "outputs": [
    {
     "name": "stderr",
     "output_type": "stream",
     "text": [
      "D:\\ProgramData\\Anaconda3\\envs\\tensorflow-gpu\\lib\\site-packages\\h5py\\__init__.py:36: FutureWarning: Conversion of the second argument of issubdtype from `float` to `np.floating` is deprecated. In future, it will be treated as `np.float64 == np.dtype(float).type`.\n",
      "  from ._conv import register_converters as _register_converters\n"
     ]
    }
   ],
   "source": [
    "import tensorflow as tf\n",
    "import numpy as np\n",
    "import seq_nn\n",
    "import pickle"
   ]
  },
  {
   "cell_type": "code",
   "execution_count": 2,
   "metadata": {
    "collapsed": true
   },
   "outputs": [],
   "source": [
    "fea_mat_path = 'D:/Data/MOT/save_fea_mat/MOT16-01.obj'\n",
    "fea_label_path = 'D:/Data/MOT/save_fea_mat/MOT16-01_label.obj'\n",
    "seq_model = 'D:/Data/UA-Detrac/cnn_MOT/model.ckpt'\n",
    "fine_tune_model_path = 'D:/Data/UA-Detrac/fine_tune_model/model.ckpt'\n",
    "max_length = 64\n",
    "feature_size = 4+512\n",
    "batch_size = 64\n",
    "num_classes = 2"
   ]
  },
  {
   "cell_type": "code",
   "execution_count": null,
   "metadata": {},
   "outputs": [
    {
     "name": "stdout",
     "output_type": "stream",
     "text": [
      "INFO:tensorflow:Restoring parameters from D:/Data/UA-Detrac/cnn_appear_model_517_128_16600steps/model.ckpt\n",
      "Model restored.\n"
     ]
    }
   ],
   "source": [
    "batch_X_x = tf.placeholder(tf.float32, [None, 1, max_length, 1])\n",
    "batch_X_y = tf.placeholder(tf.float32, [None, 1, max_length, 1])\n",
    "batch_X_w = tf.placeholder(tf.float32, [None, 1, max_length, 1])\n",
    "batch_X_h = tf.placeholder(tf.float32, [None, 1, max_length, 1])\n",
    "batch_X_a = tf.placeholder(tf.float32, [None, feature_size-4, max_length, 1])\n",
    "batch_mask_1 = tf.placeholder(tf.float32, [None, 1, max_length, 1])\n",
    "batch_mask_2 = tf.placeholder(tf.float32, [None, feature_size-4, max_length, 1])\n",
    "batch_Y = tf.placeholder(tf.int32, [None, num_classes])\n",
    "keep_prob = tf.placeholder(tf.float32)\n",
    "    \n",
    "y_conv = seq_nn.seq_nn(batch_X_x,batch_X_y,batch_X_w,batch_X_h,batch_X_a,batch_mask_1,\n",
    "                        batch_mask_2,batch_Y,max_length,feature_size,keep_prob)\n",
    "    \n",
    "cross_entropy = tf.reduce_mean(tf.nn.softmax_cross_entropy_with_logits(labels=batch_Y, logits=y_conv))\n",
    "train_step = tf.train.AdamOptimizer(1e-4).minimize(cross_entropy)\n",
    "correct_prediction = tf.equal(tf.argmax(y_conv, 1), tf.argmax(batch_Y, 1))\n",
    "accuracy = tf.reduce_mean(tf.cast(correct_prediction, tf.float32))\n",
    "\n",
    "init = tf.global_variables_initializer()\n",
    "saver = tf.train.Saver()    \n",
    "    \n",
    "with tf.Session() as sess:\n",
    "    \n",
    "    saver.restore(sess, seq_model)\n",
    "    print(\"Model restored.\")\n",
    "\n",
    "    batch_x = pickle.load(open(fea_mat_path,'rb'))\n",
    "    batch_label = pickle.load(open(fea_label_path,'rb'))\n",
    "    batch_size = batch_x.shape[0]\n",
    "    \n",
    "    remove_idx = []\n",
    "    for n in range(batch_size):\n",
    "        if np.sum(batch_x[n,0,:,1])==0:\n",
    "            remove_idx.append(n)\n",
    "    \n",
    "    batch_x = np.delete(batch_x, np.array(remove_idx), axis=0)\n",
    "    batch_label = np.delete(batch_label, np.array(remove_idx), axis=0)\n",
    "    batch_size = batch_x.shape[0]\n",
    "    batch_y = np.zeros((batch_size,2))\n",
    "    for n in range(batch_size):\n",
    "        if batch_label[n,2]==1:\n",
    "            batch_y[n,0] = 1\n",
    "        else:\n",
    "            batch_y[n,1] = 1\n",
    "     \n",
    "    x = np.zeros((batch_size,1,max_length,1))\n",
    "    y = np.zeros((batch_size,1,max_length,1))\n",
    "    w = np.zeros((batch_size,1,max_length,1))\n",
    "    h = np.zeros((batch_size,1,max_length,1))\n",
    "    ap = np.zeros((batch_size,feature_size-4,max_length,1))\n",
    "    mask_1 = np.zeros((batch_size,1,max_length,1))\n",
    "    mask_2 = np.zeros((batch_size,feature_size-4,max_length,1))\n",
    "    x[:,0,:,0] = batch_x[:,0,:,0]\n",
    "    y[:,0,:,0] = batch_x[:,1,:,0]\n",
    "    w[:,0,:,0] = batch_x[:,2,:,0]\n",
    "    h[:,0,:,0] = batch_x[:,3,:,0]\n",
    "    ap[:,:,:,0] = batch_x[:,4:,:,0]\n",
    "    mask_1[:,0,:,0] = 1-batch_x[:,0,:,1]\n",
    "    mask_2[:,:,:,0] = 1-batch_x[:,4:,:,1]\n",
    "\n",
    "    train_accuracy = accuracy.eval(feed_dict={batch_X_x: x,\n",
    "                                                batch_X_y: y,\n",
    "                                                batch_X_w: w,\n",
    "                                                batch_X_h: h,\n",
    "                                                batch_X_a: ap,\n",
    "                                                batch_mask_1: mask_1,\n",
    "                                                batch_mask_2: mask_2,\n",
    "                                                batch_Y: batch_y, \n",
    "                                                keep_prob: 1.0})\n",
    "    print('step %d, training accuracy %g' % (train_accuracy))\n",
    "    \n",
    "    train_step.run(feed_dict={batch_X_x: x, \n",
    "                                      batch_X_y: y, \n",
    "                                      batch_X_w: w, \n",
    "                                      batch_X_h: h, \n",
    "                                      batch_X_a: ap, \n",
    "                                      batch_mask_1: mask_1, \n",
    "                                      batch_mask_2: mask_2, \n",
    "                                      batch_Y: batch_y, \n",
    "                                      keep_prob: 0.75})\n",
    "    \n",
    "    #save_path = saver.save(sess, fine_tune_model_path)\n",
    "    #print(\"Model saved in path: %s\" % save_path)\n",
    "    \n",
    "    train_accuracy = accuracy.eval(feed_dict={batch_X_x: x,\n",
    "                                                batch_X_y: y,\n",
    "                                                batch_X_w: w,\n",
    "                                                batch_X_h: h,\n",
    "                                                batch_X_a: ap,\n",
    "                                                batch_mask_1: mask_1,\n",
    "                                                batch_mask_2: mask_2,\n",
    "                                                batch_Y: batch_y, \n",
    "                                                keep_prob: 1.0})\n",
    "    print('step %d, training accuracy %g' % (train_accuracy))"
   ]
  },
  {
   "cell_type": "code",
   "execution_count": null,
   "metadata": {
    "collapsed": true
   },
   "outputs": [],
   "source": []
  }
 ],
 "metadata": {
  "kernelspec": {
   "display_name": "Python 3",
   "language": "python",
   "name": "python3"
  },
  "language_info": {
   "codemirror_mode": {
    "name": "ipython",
    "version": 3
   },
   "file_extension": ".py",
   "mimetype": "text/x-python",
   "name": "python",
   "nbconvert_exporter": "python",
   "pygments_lexer": "ipython3",
   "version": "3.5.4"
  }
 },
 "nbformat": 4,
 "nbformat_minor": 2
}
